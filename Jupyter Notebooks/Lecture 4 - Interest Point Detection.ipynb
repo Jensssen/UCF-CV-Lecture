{
 "cells": [
  {
   "cell_type": "markdown",
   "metadata": {},
   "source": [
    "# Interest Point Detection\n",
    "You can find the corresponding lecture video under the following link: https://www.youtube.com/watch?v=S4mMhuLHrsQ&list=PLd3hlSJsX_ImKP68wfKZJVIPTd8Ie5u-9&index=4\n",
    "\n",
    "So what are Points of interests\n",
    "- The point at which the direction of the boundary of object changes abruptly \n",
    "- for example the corners of a triangle could be points of interst \n",
    "\n",
    "How to we detect corners? \n",
    "- The basic idea is: We move a little window along an edge or line. \n",
    "- The change in our window is pretty small independent in what direction we move the small window. \n",
    "- But when we reach the corner of the line, the change in the window increases \n",
    "- Something like that ..."
   ]
  },
  {
   "cell_type": "markdown",
   "metadata": {},
   "source": [
    "![Corner Point Detection](images/Lecture 4/Corner_Point_Detection1.jpg)"
   ]
  },
  {
   "cell_type": "code",
   "execution_count": null,
   "metadata": {
    "collapsed": true
   },
   "outputs": [],
   "source": []
  }
 ],
 "metadata": {
  "kernelspec": {
   "display_name": "Python 3",
   "language": "python",
   "name": "python3"
  },
  "language_info": {
   "codemirror_mode": {
    "name": "ipython",
    "version": 3
   },
   "file_extension": ".py",
   "mimetype": "text/x-python",
   "name": "python",
   "nbconvert_exporter": "python",
   "pygments_lexer": "ipython3",
   "version": "3.4.3"
  }
 },
 "nbformat": 4,
 "nbformat_minor": 2
}
