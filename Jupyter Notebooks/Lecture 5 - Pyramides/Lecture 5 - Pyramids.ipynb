{
 "cells": [
  {
   "cell_type": "markdown",
   "metadata": {},
   "source": [
    "# Pyramids\n",
    "\n",
    "If you want to detect an airplains on different images, one problem is that plains could be fare in the sky or on the ground. That means that they could appear big or small on the image. To acheave a scale independent detection, we create so called image pyramides. That means we scale the image itself again and again so that we get many images with different sizes. If you would put them on top of each other, they would look like a pyramid.\n",
    "\n",
    "# Gaussian Pyramids (Reduce)\n",
    "We apply a 5 x 5 window on the image and do convolution. \n",
    "\n",
    "\\begin{equation*}\n",
    "g_l(i,j) =  \\sum_{m=-2}^2 \\sum_{n=-2}^2 W(m,n)g_{l-1}(2i+m,2j+n)\n",
    "\\end{equation*}\n",
    "\n",
    "As you can see on the image, the formular is different to the standard convolutional formular. The 2 before i and j means that we reduce the size of the image by half. The windowsize of 5 is because of the range of the sum (-2 to 2)\n",
    "\n",
    "\n",
    "![Pyramid](images/Pyramid.png)\n",
    "\n",
    "\n",
    "# The 1D case \n",
    "\n",
    "![Reduce](images/Reduce.png)\n",
    "\n",
    "a b c d e are weights.\n",
    "\n",
    "# Gaussian Pyramids (Expand)\n",
    "\n",
    "\\begin{equation*}\n",
    "g_{l,n}(i,j) =  \\sum_{p=-2}^2 \\sum_{q=-2}^2 W(p,q)g_{l,n-1} (\\frac{i-p}{2},\\frac{j-q}{2})\n",
    "\\end{equation*}\n",
    "\n",
    "Here, the image will be expanded. If the fraction result is a floating point, it will just not be used. "
   ]
  }
 ],
 "metadata": {
  "kernelspec": {
   "display_name": "Python 3",
   "language": "python",
   "name": "python3"
  },
  "language_info": {
   "codemirror_mode": {
    "name": "ipython",
    "version": 3
   },
   "file_extension": ".py",
   "mimetype": "text/x-python",
   "name": "python",
   "nbconvert_exporter": "python",
   "pygments_lexer": "ipython3",
   "version": "3.5.2"
  }
 },
 "nbformat": 4,
 "nbformat_minor": 2
}
